{
  "nbformat": 4,
  "nbformat_minor": 0,
  "metadata": {
    "colab": {
      "provenance": [],
      "mount_file_id": "1t1A9oXlAOX9MaqwZT-TOcAgnJp5Q6zvH",
      "authorship_tag": "ABX9TyPbzJuy6Tz7U5WnKFoJFSFG",
      "include_colab_link": true
    },
    "kernelspec": {
      "name": "python3",
      "display_name": "Python 3"
    },
    "language_info": {
      "name": "python"
    }
  },
  "cells": [
    {
      "cell_type": "markdown",
      "metadata": {
        "id": "view-in-github",
        "colab_type": "text"
      },
      "source": [
        "<a href=\"https://colab.research.google.com/github/EnjelinaJuwita/PembelajaranMesin/blob/main/UAS_Pembelajaran_Mesin.ipynb\" target=\"_parent\"><img src=\"https://colab.research.google.com/assets/colab-badge.svg\" alt=\"Open In Colab\"/></a>"
      ]
    },
    {
      "cell_type": "code",
      "source": [
        "import pandas as pd\n",
        "from sklearn.model_selection import train_test_split\n",
        "from sklearn.linear_model import LinearRegression\n",
        "from scipy.stats import kstest\n",
        "\n",
        "# Baca file CSV\n",
        "data = pd.read_csv('/content/drive/MyDrive/Dataset UTS kelas A.csv')\n",
        "\n",
        "# Pisahkan variabel independen (X) dan variabel dependen (y)\n",
        "X = data[['km_driven']]\n",
        "y = data['year']\n",
        "\n",
        "# Bagi data menjadi data latih dan data uji\n",
        "X_train, X_test, y_train, y_test = train_test_split(X, y, test_size=0.2, random_state=42)\n",
        "\n",
        "# Inisialisasi model regresi linear\n",
        "model = LinearRegression()\n",
        "\n",
        "# Latih model menggunakan data latih\n",
        "model.fit(X_train, y_train)\n",
        "\n",
        "# Lakukan prediksi pada data uji\n",
        "y_pred = model.predict(X_test)\n",
        "\n",
        "# Hitung residu\n",
        "residuals = y_test - y_pred\n",
        "\n",
        "# Lakukan uji Kolmogorov-Smirnov\n",
        "ks_statistic, ks_pvalue = kstest(residuals, 'norm')\n",
        "\n",
        "# Cetak hasil uji\n",
        "print(\"Kolmogorov-Smirnov Test Statistic:\", ks_statistic)\n",
        "print(\"Kolmogorov-Smirnov Test p-value:\", ks_pvalue)"
      ],
      "metadata": {
        "colab": {
          "base_uri": "https://localhost:8080/"
        },
        "id": "2gdAQ4UzaysB",
        "outputId": "b4958546-8889-4994-c80f-eadd987b1ab5"
      },
      "execution_count": 5,
      "outputs": [
        {
          "output_type": "stream",
          "name": "stdout",
          "text": [
            "Kolmogorov-Smirnov Test Statistic: 0.3578128856325087\n",
            "Kolmogorov-Smirnov Test p-value: 5.507775062959719e-100\n"
          ]
        }
      ]
    },
    {
      "cell_type": "code",
      "source": [
        "import pandas as pd\n",
        "import numpy as np\n",
        "from statsmodels.stats.diagnostic import het_breuschpagan\n",
        "from sklearn.model_selection import train_test_split\n",
        "from sklearn.linear_model import LinearRegression\n",
        "import statsmodels.api as sm\n",
        "\n",
        "# Baca file CSV\n",
        "data = pd.read_csv('/content/drive/MyDrive/Dataset UTS kelas A.csv')\n",
        "\n",
        "# Pisahkan variabel independen (X) dan variabel dependen (y)\n",
        "X = data[['km_driven']]\n",
        "y = data['year']\n",
        "\n",
        "# Tambahkan kolom konstanta ke variabel independen\n",
        "X_with_const = sm.add_constant(X)\n",
        "\n",
        "# Bagi data menjadi data latih dan data uji\n",
        "X_train, X_test, y_train, y_test = train_test_split(X_with_const, y, test_size=0.2, random_state=42)\n",
        "\n",
        "# Inisialisasi model regresi linear\n",
        "model = LinearRegression()\n",
        "\n",
        "# Latih model menggunakan data latih\n",
        "model.fit(X_train, y_train)\n",
        "\n",
        "# Lakukan prediksi pada data uji\n",
        "y_pred = model.predict(X_test)\n",
        "\n",
        "# Hitung residu\n",
        "residuals = y_test - y_pred\n",
        "\n",
        "# Uji kehomogenan ragam menggunakan Breusch-Pagan Test\n",
        "bp_test = het_breuschpagan(residuals, X_test)\n",
        "print(\"Breusch-Pagan Test p-value:\", bp_test[1])"
      ],
      "metadata": {
        "colab": {
          "base_uri": "https://localhost:8080/"
        },
        "id": "cW5XK_M-UqOl",
        "outputId": "05483e60-cc74-4e1d-ff21-79205c6b7b7f"
      },
      "execution_count": 4,
      "outputs": [
        {
          "output_type": "stream",
          "name": "stdout",
          "text": [
            "Breusch-Pagan Test p-value: 0.32706006612613575\n"
          ]
        }
      ]
    },
    {
      "cell_type": "code",
      "source": [
        "import pandas as pd\n",
        "import numpy as np\n",
        "import statsmodels.api as sm\n",
        "from scipy import stats\n",
        "\n",
        "# Baca file CSV\n",
        "data = pd.read_csv('/content/drive/MyDrive/Dataset UTS kelas A.csv')\n",
        "\n",
        "# Pisahkan variabel independen (X) dan variabel dependen (y)\n",
        "X = data[['km_driven']]\n",
        "y = data['year']\n",
        "\n",
        "# Tambahkan kolom konstanta ke variabel independen\n",
        "X_with_const = sm.add_constant(X)\n",
        "\n",
        "# Buat model regresi\n",
        "model = sm.OLS(y, X_with_const)\n",
        "\n",
        "# Latih model (estimasi koefisien)\n",
        "results = model.fit()\n",
        "\n",
        "# Print statistik regresi\n",
        "print(results.summary())\n",
        "\n",
        "# Hitung total sum of squares (TSS)\n",
        "TSS = np.sum((y - np.mean(y))**2)\n",
        "\n",
        "# Hitung residual sum of squares (RSS)\n",
        "RSS = np.sum((results.resid)**2)\n",
        "\n",
        "# Hitung degrees of freedom\n",
        "n = len(y)\n",
        "k = X_with_const.shape[1] - 1\n",
        "df_regression = k\n",
        "df_residual = n - k - 1\n",
        "\n",
        "# Hitung mean square regression (MSR)\n",
        "MSR = TSS / df_regression\n",
        "\n",
        "# Hitung mean square error (MSE)\n",
        "MSE = RSS / df_residual\n",
        "\n",
        "# Hitung F-statistic\n",
        "F_statistic = MSR / MSE\n",
        "\n",
        "# Hitung p-value\n",
        "p_value = 1 - stats.f.cdf(F_statistic, df_regression, df_residual)\n",
        "\n",
        "# Cetak hasil ANOVA\n",
        "print(\"\\nANOVA Table:\")\n",
        "print(\"F-statistic:\", F_statistic)\n",
        "print(\"p-value:\", p_value)\n",
        "\n",
        "# Lakukan uji t untuk koefisien regresi\n",
        "t_test = results.t_test([0, 1])  # Uji t untuk koefisien variabel independen\n",
        "print(\"\\nT-test for Coefficients:\")\n",
        "print(t_test)"
      ],
      "metadata": {
        "colab": {
          "base_uri": "https://localhost:8080/"
        },
        "id": "7UL3fAsRXlaP",
        "outputId": "3394c846-c3ac-4250-ecdb-2c8b95fd8b37"
      },
      "execution_count": 9,
      "outputs": [
        {
          "output_type": "stream",
          "name": "stdout",
          "text": [
            "                            OLS Regression Results                            \n",
            "==============================================================================\n",
            "Dep. Variable:                   year   R-squared:                       0.176\n",
            "Model:                            OLS   Adj. R-squared:                  0.176\n",
            "Method:                 Least Squares   F-statistic:                     927.4\n",
            "Date:                Tue, 16 Apr 2024   Prob (F-statistic):          8.87e-185\n",
            "Time:                        00:47:28   Log-Likelihood:                -11981.\n",
            "No. Observations:                4340   AIC:                         2.397e+04\n",
            "Df Residuals:                    4338   BIC:                         2.398e+04\n",
            "Df Model:                           1                                         \n",
            "Covariance Type:            nonrobust                                         \n",
            "==============================================================================\n",
            "                 coef    std err          t      P>|t|      [0.025      0.975]\n",
            "------------------------------------------------------------------------------\n",
            "const       2015.6022      0.101      2e+04      0.000    2015.404    2015.800\n",
            "km_driven  -3.793e-05   1.25e-06    -30.454      0.000   -4.04e-05   -3.55e-05\n",
            "==============================================================================\n",
            "Omnibus:                      768.119   Durbin-Watson:                   1.840\n",
            "Prob(Omnibus):                  0.000   Jarque-Bera (JB):             1789.721\n",
            "Skew:                          -1.001   Prob(JB):                         0.00\n",
            "Kurtosis:                       5.426   Cond. No.                     1.41e+05\n",
            "==============================================================================\n",
            "\n",
            "Notes:\n",
            "[1] Standard Errors assume that the covariance matrix of the errors is correctly specified.\n",
            "[2] The condition number is large, 1.41e+05. This might indicate that there are\n",
            "strong multicollinearity or other numerical problems.\n",
            "\n",
            "ANOVA Table:\n",
            "F-statistic: 5265.445835546531\n",
            "p-value: 1.1102230246251565e-16\n",
            "\n",
            "T-test for Coefficients:\n",
            "                             Test for Constraints                             \n",
            "==============================================================================\n",
            "                 coef    std err          t      P>|t|      [0.025      0.975]\n",
            "------------------------------------------------------------------------------\n",
            "c0         -3.793e-05   1.25e-06    -30.454      0.000   -4.04e-05   -3.55e-05\n",
            "==============================================================================\n"
          ]
        }
      ]
    }
  ]
}